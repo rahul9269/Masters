{
 "cells": [
  {
   "cell_type": "code",
   "execution_count": 43,
   "metadata": {
    "collapsed": false
   },
   "outputs": [],
   "source": [
    "import pandas as pd\n",
    "import numpy as np\n",
    "import re\n",
    "from datetime import datetime\n",
    "import unirest"
   ]
  },
  {
   "cell_type": "code",
   "execution_count": 44,
   "metadata": {
    "collapsed": false
   },
   "outputs": [],
   "source": [
    "# def getdata(fr,to,to2):\n",
    "#     less = 0 \n",
    "#     great = 0 \n",
    "#     for l in a:\n",
    "#     z = l.split()\n",
    "# #     print z[0]('10/12/13', '%m/%d/%y')\n",
    "#     if (datetime.strptime(z[0], '%d/%m/%Y') >= datetime.strptime(fr, '%d/%m/%Y')) and (datetime.strptime(z[0], '%d/%m/%Y') <= datetime.strptime(to, '%d/%m/%Y')):\n",
    "#         less = less + 1\n",
    "#     elif (datetime.strptime(z[0], '%d/%m/%Y') > datetime.strptime(to, '%d/%m/%Y')) and (datetime.strptime(z[0], '%d/%m/%Y') <= datetime.strptime(to2, '%d/%m/%Y')):\n",
    "# #             print datetime.strptime(z[0],'%d/%m/%Y')\n",
    "#             great  = great + 1\n",
    "    \n",
    "#     return less,great\n",
    "\n",
    "\n",
    "def getResponse(text):\n",
    "    response = unirest.post(\"https://community-sentiment.p.mashape.com/text/\",\n",
    "      headers={\n",
    "        \"X-Mashape-Key\": \"vv1olWSvhEmshc4I2MoYPvMtuoLhp1WYLnFjsnqesppidrzZ2N\",\n",
    "        \"Content-Type\": \"application/x-www-form-urlencoded\",\n",
    "        \"Accept\": \"application/json\"\n",
    "      },\n",
    "      params={\n",
    "        \"txt\":text\n",
    "      }\n",
    "    )\n",
    "    return response\n",
    "\n",
    "def getResponse1(text):\n",
    "    response = unirest.post(\"https://community-sentiment.p.mashape.com/text/\",\n",
    "      headers={\n",
    "        \"X-Mashape-Key\": \"DCIf7zcTjpmshefa0SUlgYMM2WAFp1GaBHajsnslnUH8xQNW1U\",\n",
    "        \"Content-Type\": \"application/x-www-form-urlencoded\",\n",
    "        \"Accept\": \"application/json\"\n",
    "      },\n",
    "      params={\n",
    "        \"txt\": text\n",
    "      }\n",
    "    )\n",
    "    return response\n",
    "\n",
    "def processTweet(tweet):\n",
    "    # process the tweets\n",
    "\n",
    "    #Convert to lower case\n",
    "    tweet = tweet.lower()\n",
    "    #Convert www.* or https?://* to URL\n",
    "    tweet = re.sub('((www\\.[^\\s]+)|(https?://[^\\s]+))','',tweet)\n",
    "    #Convert @username to AT_USER\n",
    "    tweet = re.sub('@[^\\s]+','',tweet)\n",
    "    #Remove additional white spaces\n",
    "    tweet = re.sub('[\\s]+', ' ', tweet)\n",
    "    #Replace #word with word\n",
    "    tweet = re.sub(r'#([^\\s]+)', r'\\1', tweet)\n",
    "    #trim\n",
    "    tweet = tweet.strip('\\'\"')\n",
    "#     return Tweetpy.ipynb\n",
    "    return tweet    "
   ]
  },
  {
   "cell_type": "code",
   "execution_count": 73,
   "metadata": {
    "collapsed": false
   },
   "outputs": [],
   "source": [
    "df= pd.read_csv('D:\\Workspace\\MS\\DataScience\\FinalProject\\\\13thRelease\\VictorFrankenstein_FULL.csv', skiprows=0)\n",
    "# df_1 = pd.read_csv('D:\\Workspace\\MS\\DataScience\\FinalProject\\\\13thRelease\\\\JamesWhite_full.csv', skiprows=0)\n",
    "\n",
    "# release_data = df[(df.time < '16/11/2015') &  (df.time > '09/11/2015')] \n",
    "# release_text = release_data.text\n",
    "\n",
    "pre_release = df[(df.time < '25/11/2015') &  (df.time > '21/11/2015')]\n",
    "pre_release_text = pre_release.text.drop_duplicates()\n",
    "post_release = df[(df.time < '28/11/2015') &  (df.time > '24/11/2015')]\n",
    "post_release_text = post_release.text.drop_duplicates()\n",
    "\n",
    "\n",
    "# pre_release_1 = df_1[(df_1.time < '13/11/2015') &  (df_1.time > '09/11/2015')]\n",
    "# pre_release_text_1 = pre_release_1.text.drop_duplicates()\n",
    "# post_release_1 = df_1[(df_1.time < '16/11/2015') &  (df_1.time > '12/11/2015')]\n",
    "# post_release_text_1 = post_release_1.text.drop_duplicates()\n",
    "\n",
    "\n",
    "# release_data.to_csv('D:\\Workspace\\MS\\DataScience\\FinalProject\\\\13thRelease\\\\lovethecoopers_data.csv')"
   ]
  },
  {
   "cell_type": "code",
   "execution_count": 74,
   "metadata": {
    "collapsed": false
   },
   "outputs": [],
   "source": [
    "# pre_release_text\n",
    "fw= open('D:\\Workspace\\MS\\DataScience\\FinalProject\\\\13thRelease\\\\VF_senti_pre.csv', 'w')\n",
    "df1 = pd.DataFrame(pre_release_text) \n",
    "# head = df1.head()\n",
    "for row in df1.iterrows():\n",
    "#     print row\n",
    "    a = processTweet(str(row))\n",
    "    res = getResponse(a)\n",
    "    fw.write(str(res.body))\n",
    "    fw.write(\"\\n\")\n",
    "fw.close()"
   ]
  },
  {
   "cell_type": "code",
   "execution_count": 75,
   "metadata": {
    "collapsed": true
   },
   "outputs": [],
   "source": [
    "# post_release_text\n",
    "fw_1= open('D:\\Workspace\\MS\\DataScience\\FinalProject\\\\13thRelease\\\\VF_senti_post.csv', 'w')\n",
    "df1_1 = pd.DataFrame(post_release_text) \n",
    "# head = df1.head()\n",
    "for row_1 in df1_1.iterrows():\n",
    "#     print row\n",
    "    a_1 = processTweet(str(row_1))\n",
    "    res_1 = getResponse1(a_1)\n",
    "    fw_1.write(str(res_1.body))\n",
    "    fw_1.write(\"\\n\")\n",
    "fw_1.close()"
   ]
  },
  {
   "cell_type": "code",
   "execution_count": null,
   "metadata": {
    "collapsed": false
   },
   "outputs": [],
   "source": []
  },
  {
   "cell_type": "code",
   "execution_count": null,
   "metadata": {
    "collapsed": false
   },
   "outputs": [],
   "source": []
  },
  {
   "cell_type": "code",
   "execution_count": null,
   "metadata": {
    "collapsed": false
   },
   "outputs": [],
   "source": []
  },
  {
   "cell_type": "code",
   "execution_count": null,
   "metadata": {
    "collapsed": true
   },
   "outputs": [],
   "source": []
  }
 ],
 "metadata": {
  "kernelspec": {
   "display_name": "Python 2",
   "language": "python",
   "name": "python2"
  },
  "language_info": {
   "codemirror_mode": {
    "name": "ipython",
    "version": 2
   },
   "file_extension": ".py",
   "mimetype": "text/x-python",
   "name": "python",
   "nbconvert_exporter": "python",
   "pygments_lexer": "ipython2",
   "version": "2.7.10"
  }
 },
 "nbformat": 4,
 "nbformat_minor": 0
}
